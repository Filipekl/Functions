{
 "cells": [
  {
   "cell_type": "markdown",
   "metadata": {},
   "source": [
    "# KFold Function"
   ]
  },
  {
   "cell_type": "markdown",
   "metadata": {},
   "source": [
    "Performs KFold and prints metric graph"
   ]
  },
  {
   "cell_type": "code",
   "execution_count": null,
   "metadata": {
    "collapsed": true
   },
   "outputs": [],
   "source": [
    "# required\n",
    "# import seaborn as sns\n",
    "\n",
    "def kfoldFunction(xVars, yVar, mClassifier, cv = 5, verbose = False, plot = True):\n",
    "    accuracy = []\n",
    "    precision = []\n",
    "    recall = []\n",
    "    kf = KFold(len(xVars), n_folds = cv)\n",
    "\n",
    "    for train_index, test_index in kf:\n",
    "        xTrain, xTest = xVars.iloc[train_index], xVars.iloc[test_index]\n",
    "        yTrain, yTest = yVars.iloc[train_index], yVars.iloc[test_index]\n",
    "\n",
    "        mClassifier = mClassifier.fit(xTrain, yTrain)\n",
    "        mPredict = mClassifier.predict(xTest)\n",
    "\n",
    "        if verbose == True:\n",
    "            print('Accuracy:', accuracy_score(yTest, mPredict), '\\n')\n",
    "            print(classification_report(yTest, mPredict))\n",
    "            print(pd.DataFrame(confusion_matrix(yTest, mPredict), columns = ['PredF','PredT'], index = ['F','T']), '\\n\\n\\n')\n",
    "            \n",
    "        accuracy.append(accuracy_score(yTest, mPredict))\n",
    "        precision.append(precision_score(yTest, mPredict))\n",
    "        recall.append(recall_score(yTest, mPredict))\n",
    "    \n",
    "    if plot == True:\n",
    "        plt.figure()\n",
    "        plt.title('Accuracy: Mean {} | SD {}'.format(round(np.average(accuracy),4), round(np.std(accuracy),4)))\n",
    "        metrics = pd.DataFrame([accuracy, precision, recall], index = ['accuracy','precision','recall']).T\n",
    "        sns.boxplot(metrics)\n",
    "        \n",
    "    return(accuracy)"
   ]
  }
 ],
 "metadata": {
  "anaconda-cloud": {},
  "kernelspec": {
   "display_name": "Python [conda root]",
   "language": "python",
   "name": "conda-root-py"
  },
  "language_info": {
   "codemirror_mode": {
    "name": "ipython",
    "version": 3
   },
   "file_extension": ".py",
   "mimetype": "text/x-python",
   "name": "python",
   "nbconvert_exporter": "python",
   "pygments_lexer": "ipython3",
   "version": "3.5.2"
  }
 },
 "nbformat": 4,
 "nbformat_minor": 1
}
