{
 "cells": [
  {
   "cell_type": "code",
   "execution_count": null,
   "metadata": {
    "collapsed": true
   },
   "outputs": [],
   "source": [
    "# github.com/gregtam\n",
    "@register_cell_magic\n",
    "def readsql(line, cell):\n",
    "    \"\"\"\n",
    "    Extract the code in the specific cell (should be valid SQL), \n",
    "    and execute it using the connection object to the backend \n",
    "    database. The resulting pandas DataFrame is rendered inline \n",
    "    below the cell using IPython.display. You'd use this for SELECT.\n",
    "    \n",
    "    Returns a DataFrame with the name specified in the magic\n",
    "    function. If this is not specified, then the DataFrame\n",
    "    is called _df.\n",
    "    \"\"\"\n",
    "    # Use the global connection object defined above.\n",
    "    global conn\n",
    "    table_name = line\n",
    "    # If there is more than one table name specified,\n",
    "    # throw an exception.\n",
    "    if len(table_name.split()) > 1:\n",
    "        raise Exception('More than one table name specified')\n",
    "\n",
    "    if len(table_name.split()) > 0:\n",
    "        # If a table name is specified, store it as that\n",
    "        globals()[table_name] = psql.read_sql(cell.format(**globals()), conn)\n",
    "        display(globals()[table_name])\n",
    "\n",
    "    else:\n",
    "        # Otherwise, call it _df\n",
    "        global _df\n",
    "        _df = psql.read_sql(cell.format(**globals()), conn)\n",
    "        display(_df)\n",
    "\n",
    "    \n",
    "@register_cell_magic\n",
    "def execsql(line, cell):\n",
    "    \"\"\"\n",
    "    Extract the code in the specific cell (should be valid SQL),\n",
    "    and execute it using the connection object to the backend \n",
    "    database. You'd use this for CREATE/UPDATE/DELETE.\n",
    "    \"\"\"\n",
    "    # Use the global connection object defined above.\n",
    "    global conn\n",
    "    psql.execute(cell.format(**globals()), conn)\n",
    "\n",
    "# We delete these to avoid name conflicts for automagic to work\n",
    "del execsql, readsql"
   ]
  }
 ],
 "metadata": {
  "anaconda-cloud": {},
  "kernelspec": {
   "display_name": "Python [conda root]",
   "language": "python",
   "name": "conda-root-py"
  },
  "language_info": {
   "codemirror_mode": {
    "name": "ipython",
    "version": 3
   },
   "file_extension": ".py",
   "mimetype": "text/x-python",
   "name": "python",
   "nbconvert_exporter": "python",
   "pygments_lexer": "ipython3",
   "version": "3.5.2"
  }
 },
 "nbformat": 4,
 "nbformat_minor": 1
}
